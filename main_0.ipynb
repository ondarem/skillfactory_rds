{
  "nbformat": 4,
  "nbformat_minor": 0,
  "metadata": {
    "colab": {
      "name": "main_0.ipynb",
      "provenance": [],
      "collapsed_sections": [],
      "authorship_tag": "ABX9TyPDz4GJeO/bluXEmqxs0zX8",
      "include_colab_link": true
    },
    "kernelspec": {
      "name": "python3",
      "display_name": "Python 3"
    }
  },
  "cells": [
    {
      "cell_type": "markdown",
      "metadata": {
        "id": "view-in-github",
        "colab_type": "text"
      },
      "source": [
        "<a href=\"https://colab.research.google.com/github/ondarem/skillfactory_rds/blob/master/main_0.ipynb\" target=\"_parent\"><img src=\"https://colab.research.google.com/assets/colab-badge.svg\" alt=\"Open In Colab\"/></a>"
      ]
    },
    {
      "cell_type": "code",
      "metadata": {
        "id": "Yu9rPIi94pPb",
        "colab_type": "code",
        "colab": {
          "base_uri": "https://localhost:8080/",
          "height": 51
        },
        "outputId": "5650813e-9f1d-4ec1-8aa2-fa16619cd44d"
      },
      "source": [
        "import numpy as np\n",
        "def score_game(game_core):\n",
        "  count_ls = []\n",
        "  np.random.seed(1) # фиксируем RANDOM SEED, чтобы ваш эксперимент был воспроизводим!\n",
        "  random_array = np.random.randint(1,101, size=(1000))\n",
        "  for number in random_array:\n",
        "    count_ls.append(game_core(number))\n",
        "    score = int(np.mean(count_ls))\n",
        "  print(f\"Ваш алгоритм угадывает число в среднем за {score} попыток\")\n",
        "  return(score)\n",
        "\n",
        "def game_core_oem1(number):\n",
        "  count = 1\n",
        "  min_n = 1\n",
        "  max_n = 101\n",
        "  predict = np.random.randint(min_n,max_n)\n",
        "  while number != predict:\n",
        "    count += 1\n",
        "    if number > predict:\n",
        "      min_n = predict\n",
        "    elif number < predict:\n",
        "      max_n = predict\n",
        "    predict = np.random.randint(min_n,max_n)\n",
        "  return(count)\n",
        "\n",
        "score_game(game_core_oem1)"
      ],
      "execution_count": 1,
      "outputs": [
        {
          "output_type": "stream",
          "text": [
            "Ваш алгоритм угадывает число в среднем за 8 попыток\n"
          ],
          "name": "stdout"
        },
        {
          "output_type": "execute_result",
          "data": {
            "text/plain": [
              "8"
            ]
          },
          "metadata": {
            "tags": []
          },
          "execution_count": 1
        }
      ]
    },
    {
      "cell_type": "code",
      "metadata": {
        "id": "n3L1TMGr50Lq",
        "colab_type": "code",
        "colab": {
          "base_uri": "https://localhost:8080/",
          "height": 51
        },
        "outputId": "ab16a3ca-d965-4a20-9554-0b02120204a0"
      },
      "source": [
        "import numpy as np\n",
        "def score_game1(game_core1):\n",
        "  count_ls = []\n",
        "  np.random.seed(1) # фиксируем RANDOM SEED, чтобы ваш эксперимент был воспроизводим!\n",
        "  random_array = np.random.randint(1,101, size=(1000))\n",
        "  for number in random_array:\n",
        "    count_ls.append(game_core1(number))\n",
        "    score = int(np.mean(count_ls))\n",
        "  print(f\"Ваш алгоритм угадывает число в среднем за {score} попыток\")\n",
        "  return(score)\n",
        "\n",
        "def game_core_oem2(number):\n",
        "  count = 1\n",
        "  min_n = 1\n",
        "  max_n = 101\n",
        "  predict = int(max_n/2)\n",
        "  while number != predict:\n",
        "    count += 1\n",
        "    if number > predict:\n",
        "      min_n = predict\n",
        "    elif number < predict:\n",
        "      max_n = predict\n",
        "    predict = int(max_n-((max_n-min_n)/2))\n",
        "  return(count)\n",
        "\n",
        "score_game1(game_core_oem2)"
      ],
      "execution_count": 2,
      "outputs": [
        {
          "output_type": "stream",
          "text": [
            "Ваш алгоритм угадывает число в среднем за 5 попыток\n"
          ],
          "name": "stdout"
        },
        {
          "output_type": "execute_result",
          "data": {
            "text/plain": [
              "5"
            ]
          },
          "metadata": {
            "tags": []
          },
          "execution_count": 2
        }
      ]
    }
  ]
}